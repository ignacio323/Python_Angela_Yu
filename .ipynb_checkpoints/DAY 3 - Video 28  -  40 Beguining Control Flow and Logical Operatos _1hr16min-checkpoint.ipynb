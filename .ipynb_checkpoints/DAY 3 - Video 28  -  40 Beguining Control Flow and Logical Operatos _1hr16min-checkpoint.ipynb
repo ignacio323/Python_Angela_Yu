{
 "cells": [
  {
   "cell_type": "markdown",
   "id": "d7d58557",
   "metadata": {},
   "source": [
    "DAY 3 - VIDEO 30: Control Flow if else"
   ]
  },
  {
   "cell_type": "code",
   "execution_count": null,
   "id": "ae77090d",
   "metadata": {},
   "outputs": [],
   "source": [
    "print (\"Welcome to the rollerscoster\")\n",
    "height = int(input(\"What is your height in cm?\"))\n",
    "# = asigning value\n",
    "# == checking value\n",
    "if height ==120:\n",
    "    print (\"You can ride the rollerscoster\")\n",
    "else:\n",
    "    print (\"Sorry, you have to grow taller before you can ride\")"
   ]
  },
  {
   "cell_type": "markdown",
   "id": "505fd478",
   "metadata": {},
   "source": [
    "---\n",
    "DAY 3 - VIDEO 31: Odd or Even number 👇"
   ]
  },
  {
   "cell_type": "code",
   "execution_count": null,
   "id": "95a8787e",
   "metadata": {},
   "outputs": [],
   "source": [
    "# Write a program that works out whether if a given number is an odd or even number.\n",
    "# Even numbers can be divided by 2 with no remainder.\n",
    "# e.g. 86 is even because 86 ÷ 2 = 43\n",
    "# 43 does not have any decimal places. Therefore the division is clean.\n",
    "# e.g. 59 is odd because 59 ÷ 2 = 29.5\n",
    "# 29.5 is not a whole number, it has decimal places. Therefore there is a remainder of 0.5, so the division is not clean.\n",
    "# The modulo is written as a percentage sign (%) in Python. It gives you the remainder after a division.\n",
    "# e.g.\n",
    "# 6 ÷ 2 = 3 with no remainder.\n",
    "# therefore: 6 % 2 = 0\n",
    "# 5 ÷ 2 = 2 x 2 + 1, remainder is 1.\n",
    "# therefore: 5 % 2 = 1\n",
    "# 14 ÷ 4 = 3 x 4 + 2, remainder is 2.\n",
    "# therefore: 14 % 4 = 2\n",
    "# Warning your output should match the Example Output format exactly, even the positions of the commas and full stops.\n",
    "# Example 1 Input  : 43\n",
    "#           Output : This is an odd number.\n",
    "# Example 2 Input  : 94\n",
    "#           Output : This is an even number."
   ]
  },
  {
   "cell_type": "code",
   "execution_count": null,
   "id": "ceda6d02",
   "metadata": {},
   "outputs": [],
   "source": [
    "# Which number do you want to check?\n",
    "number = int(input())\n",
    "# 🚨 Don't change the code above 👆\n",
    "# Write your code below this line 👇\n",
    "number2 = int(input('Which number do you want to check? '))\n",
    "numb_bet_2 = number2/2"
   ]
  },
  {
   "cell_type": "code",
   "execution_count": null,
   "id": "42b3c876",
   "metadata": {},
   "outputs": [],
   "source": [
    "def dividir_numero(numero):\n",
    "    parte_entera, parte_decimal = divmod(numero, 1)\n",
    "    return int(parte_entera), round(parte_decimal, 2)\n",
    "\n",
    "# Ejemplo de uso\n",
    "numero = float(input(\"Número a descomponer: \"))\n",
    "resultado = numero/2\n",
    "parte_entera, parte_decimal = dividir_numero(resultado)\n",
    "\n",
    "print(f\"Número original: {numero}\")\n",
    "print(f\"Parte enteraluego de la división: {parte_entera}\")\n",
    "print(f\"Parte decimal luego de la división: {parte_decimal}\")\n",
    "\n",
    "if parte_decimal == 0:\n",
    "    print(f\"{numero} es un número par.\")\n",
    "else:\n",
    "    print(f\"{numero} es un número impar.\")"
   ]
  },
  {
   "cell_type": "markdown",
   "id": "5a7dcde0",
   "metadata": {},
   "source": [
    "---\n",
    "DAY 3 - VIDEO 32: Nested if Statament and elif estatement"
   ]
  },
  {
   "cell_type": "code",
   "execution_count": null,
   "id": "8ccef3df",
   "metadata": {},
   "outputs": [],
   "source": [
    "print (\"Welcome to the rollerscoster\")\n",
    "height = int(input(\"What is your height in cm?\"))\n",
    "\n",
    "if height >= 120:\n",
    "    print (\"You can ride the rollerscoster!\")\n",
    "    age = int(input(\"What is your age?\"))\n",
    "    if age < 12:\n",
    "        print (\"Please pay $5.\")\n",
    "    elif age <= 18:\n",
    "        print (\"Please pay $7.\")\n",
    "    else:\n",
    "        print (\"Please pay $12.\")\n",
    "else:\n",
    "    print (\"Sorry, you have to grow taller before you can ride\")"
   ]
  },
  {
   "cell_type": "code",
   "execution_count": null,
   "id": "01588f7e",
   "metadata": {},
   "outputs": [],
   "source": [
    "# Codigo anterior abreviado\n",
    "height = int(input(\"Enter your height in centimeters: \"))\n",
    "if height >= 120:\n",
    "    print(\"You can ride the roller coaster!\")\n",
    "    \n",
    "    age = int(input(\"What is your age? \"))\n",
    "    price = 5 if age < 12 else 7 if age <= 18 else 12\n",
    "    print(f\"Please pay ${price}.\")\n",
    "    \n",
    "else:\n",
    "    print(\"Sorry, you have to grow taller before you can ride.\")"
   ]
  },
  {
   "cell_type": "markdown",
   "id": "9c6909fa",
   "metadata": {},
   "source": [
    "---\n",
    "DAY 3 VIDEO 33 - LESSON MBI (Body Mass Index) "
   ]
  },
  {
   "cell_type": "code",
   "execution_count": null,
   "id": "41969cbd",
   "metadata": {},
   "outputs": [],
   "source": [
    "# Enter your height in meters e.g., 1.55\n",
    "height = float(input(\"Introduce height\"))\n",
    "# Enter your weight in kilograms e.g., 72\n",
    "weight = int(input(\"Introduce weight\"))\n",
    "# 🚨 Don't change the code above 👆"
   ]
  },
  {
   "cell_type": "markdown",
   "id": "76081a50",
   "metadata": {},
   "source": [
    "Instructions  \n",
    "Write a program that interprets the Body Mass Index (BMI) based on a user's weight and height.  \n",
    "\n",
    "It should tell them the interpretation of their BMI based on the BMI value.  \n",
    "\n",
    "Under 18.5 they are underweight  \n",
    "Over  18.5 but below 25 they have a normal weight  \n",
    "Equal to or over 25 but below 30 they are slightly overweight  \n",
    "Equal to or over 30 but below 35 they are obese.  \n",
    "Equal to or over 35 they are clinically obese.  \n",
    "BMI= weight / height^2"
   ]
  },
  {
   "cell_type": "code",
   "execution_count": null,
   "id": "bec74c31",
   "metadata": {},
   "outputs": [],
   "source": [
    "weight, height = int(input(\"What is your Weight (kg): \")), int(input(\"What is your Height (cm): \"))\n",
    "bmi = weight / (height / 100) ** 2\n",
    "status = [\"underweight\", \"normal weight\", \"slightly overweight\", \"obese\", \"clinically obese\"]\\\n",
    "         [int(bmi >= 35) + int(30 <= bmi < 35) * 2 + int(25 <= bmi < 30) * 3 + int(18.5 <= bmi < 25) * 4]\n",
    "print(f\"Your BMI is {bmi:.2f}. You are {status}.\")"
   ]
  },
  {
   "cell_type": "markdown",
   "id": "5d4f558e",
   "metadata": {},
   "source": [
    "---\n",
    "DAY 3 - VIDEO 34: Interactive code exercise - Leap Year"
   ]
  },
  {
   "cell_type": "markdown",
   "id": "245ecd26",
   "metadata": {},
   "source": [
    "Instructions  \n",
    "💪 This is a difficult challenge! 💪  \n",
    "Write a program that works out whether if a given year is a leap year.   \n",
    "A normal year has 365 days, leap years have 366, with an extra day in February.   \n",
    "The reason why we have leap years is really fascinating, this video does it more justice.  \n",
    "\n",
    "This is how you work out whether if a particular year is a leap year. On every year that   \n",
    "is divisible by 4 with no remainder  except every year that is evenly divisible by 100 with no remainder  \n",
    "unless the year is also divisible by 400 with no remainder.  If english is not your first language or if   \n",
    "the above logic is confusing, try using this flow chart.  \n",
    "\n",
    "e.g. The year 2000: 2000 ÷ 4 = 500 (Leap)  \n",
    "2000 ÷ 100 = 20 (Not Leap)  \n",
    "2000 ÷ 400 = 5 (Leap!)  \n",
    "So the year 2000 is a leap year.  \n",
    "But the year 2100 is not a leap year because:  \n",
    "2100 ÷ 4 = 525 (Leap)  \n",
    "2100 ÷ 100 = 21 (Not Leap)  \n",
    "2100 ÷ 400 = 5.25 (Not Leap)  \n",
    "Warning your output should match the Example Output format exactly, including spelling an punctuation.  \n",
    "\n",
    "Example Input 1 2400: Example Output 1: Leap year  \n",
    "Example Input 2 1989: Example Output 2: Not leap year  "
   ]
  },
  {
   "cell_type": "code",
   "execution_count": null,
   "id": "702cec39",
   "metadata": {},
   "outputs": [],
   "source": [
    "# DAY 3 - VIDEO 34: EXERCISE LEAP YEAR\n",
    "def is_leap_year(year):\n",
    "    # Check if the year is divisible by 4\n",
    "    divisible_by_4 = year % 4 == 0\n",
    "    \n",
    "    # Check if the year is divisible by 100\n",
    "    divisible_by_100 = year % 100 == 0\n",
    "    \n",
    "    # Check if the year is divisible by 400\n",
    "    divisible_by_400 = year % 400 == 0\n",
    "\n",
    "    # Determine if it's a leap year based on the conditions\n",
    "    if divisible_by_4:\n",
    "        if divisible_by_100:\n",
    "            if divisible_by_400:\n",
    "                return \"Leap year\"\n",
    "            else:\n",
    "                return \"Not leap year\"\n",
    "        else:\n",
    "            return \"Leap year\"\n",
    "    else:\n",
    "        return \"Not leap year\"\n",
    "\n",
    "# Example Input 1\n",
    "year1 = 2400\n",
    "result1 = is_leap_year(year1)\n",
    "print(result1)\n",
    "\n",
    "# Example Input 2\n",
    "year2 = 1989\n",
    "result2 = is_leap_year(year2)\n",
    "print(result2)"
   ]
  },
  {
   "cell_type": "code",
   "execution_count": null,
   "id": "9ce5f0a6",
   "metadata": {},
   "outputs": [],
   "source": [
    "# Get the input year from the user\n",
    "year = int(input(\"Enter a year: \"))\n",
    "\n",
    "# Check if it's a leap year\n",
    "if (year % 4 == 0 and year % 100 != 0) or (year % 400 == 0):\n",
    "    print(\"Leap year\")\n",
    "else:\n",
    "    print(\"Not leap year\")"
   ]
  },
  {
   "cell_type": "markdown",
   "id": "6a14f245",
   "metadata": {},
   "source": [
    "---\n",
    "DAY 3 - VIDEO 35: Multiple if statements in suscesion"
   ]
  },
  {
   "cell_type": "code",
   "execution_count": null,
   "id": "da934727",
   "metadata": {},
   "outputs": [],
   "source": [
    "x = int(input(\"Introduzca un numero entero: \"))\n",
    "if x < 5:\n",
    "    print(\"x es menor que 5\")\n",
    "elif x < 10:\n",
    "    print(\"x es menor que 10 pero no menor que 5\")\n",
    "else:\n",
    "    print(\"x es mayor o igual a 10\")\n"
   ]
  },
  {
   "cell_type": "code",
   "execution_count": null,
   "id": "dc35e81f",
   "metadata": {},
   "outputs": [],
   "source": [
    "import matplotlib.pyplot as plt\n",
    "import matplotlib.image as mpimg\n",
    "\n",
    "# Cargar la imagen desde un archivo\n",
    "image_flow_If_Elif = mpimg.imread('C:\\\\Users\\\\User1\\\\Desktop\\\\Python Angela Yu 01-Ene-2024\\\\flowchart_if_elif.png')\n",
    "\n",
    "# Mostrar la imagen\n",
    "plt.imshow(image_flow_If_Elif)\n",
    "plt.axis('off')  # Desactivar ejes\n",
    "plt.show()\n"
   ]
  },
  {
   "cell_type": "code",
   "execution_count": null,
   "id": "8fc170d8",
   "metadata": {},
   "outputs": [],
   "source": [
    "print(\"Welcome to the rollercoaster\")\n",
    "height = int(input(\"What is your height in cm? \"))\n",
    "\n",
    "bill = 0\n",
    "if height >= 120:\n",
    "    print(\"You can ride the rollercoaster!\")\n",
    "    age = int(input(\"What is your age? \"))\n",
    "    if age < 12:\n",
    "        bill = 5\n",
    "        print(\"Child tickets are $5.\")\n",
    "    elif age <= 18:\n",
    "        bill = 7\n",
    "        print(\"Student tickets are $7.\")\n",
    "    else:\n",
    "        bill = 12\n",
    "        print(\"Adult tickets are $12.\")\n",
    "    wants_photos = input(\"Do you want a photo taken? Y or N: \")\n",
    "    if wants_photos.upper() == \"Y\":\n",
    "        bill += 3\n",
    "    print(f\"Your final bill is ${bill}\")\n",
    "else:\n",
    "    print(\"Sorry, you have to grow taller before you can ride.\")\n"
   ]
  },
  {
   "cell_type": "markdown",
   "id": "c38b933c",
   "metadata": {},
   "source": [
    "DAY 3 - VIDEO 36: LESSON 11 - PIZZA ORDER PRACTICE"
   ]
  },
  {
   "cell_type": "markdown",
   "id": "ab4720ce",
   "metadata": {},
   "source": [
    "Instructions  \n",
    "Congratulations, you've got a job at Python Pizza! Your first job is to build an  \n",
    "automatic pizza order program.  Based on a user's order, work out their final bill.  \n",
    "- Small pizza (S) : 15  \n",
    "- Medium pizza (M): 20  \n",
    "- Large pizza (L) : 25  \n",
    "\n",
    "+ Add pepperoni    for small pizza           (Y or N): + 2  \n",
    "+ Add pepperoni    for medium or large pizza (Y or N): + 3  \n",
    "+ Add extra cheese for any size pizza        (Y or N): + 1  \n",
    "      \n",
    "Example Input: L, Y, N  \n",
    "Example Output:  \n",
    "Thank you for choosing Python Pizza Deliveries!  \n",
    "Your final bill is: 28.  "
   ]
  },
  {
   "cell_type": "code",
   "execution_count": 35,
   "id": "55ebe4fe",
   "metadata": {},
   "outputs": [
    {
     "name": "stdout",
     "output_type": "stream",
     "text": [
      "Thank you for choosing Python Pizza Deliveries!\n",
      "What size pizza do you want? S, M, or L: L\n",
      "Do you want pepperoni? Y or N :N\n",
      "Do you want extra cheese? Y or N: Y\n",
      "Thank you for choosing Python Pizza Deliveries!\n",
      "Your final bill is $26\n"
     ]
    }
   ],
   "source": [
    "print(\"Thank you for choosing Python Pizza Deliveries!\")\n",
    "size = input(\"What size pizza do you want? S, M, or L: \").upper()\n",
    "add_pepperoni = input(\"Do you want pepperoni? Y or N :\").upper()\n",
    "extra_cheese = input(\"Do you want extra cheese? Y or N: \").upper()\n",
    "\n",
    "# Write your code below this line 👇\n",
    "bill = 0\n",
    "\n",
    "# -------------------------------Price by size\n",
    "if size   == \"S\":\n",
    "    bill  += 15\n",
    "elif size == \"M\":\n",
    "    bill  += 20\n",
    "else: #size == \"L\"\n",
    "    bill  += 25\n",
    "\n",
    "# ------------------------------Price  with pepperoni extra\n",
    "if size.upper() == \"S\" and add_pepperoni.upper() == \"Y\":\n",
    "    bill += 2\n",
    "if size.upper() != \"S\" and add_pepperoni.upper() == \"Y\":\n",
    "    bill += 3\n",
    "\n",
    "# -------------------------------Price with extra cheese\n",
    "if extra_cheese.upper() == \"Y\":\n",
    "    bill += 1\n",
    "\n",
    "print(\"Thank you for choosing Python Pizza Deliveries!\")\n",
    "print(f\"Your final bill is ${bill}\")"
   ]
  },
  {
   "cell_type": "code",
   "execution_count": null,
   "id": "a5fabfdf",
   "metadata": {},
   "outputs": [],
   "source": []
  }
 ],
 "metadata": {
  "kernelspec": {
   "display_name": "Python 3 (ipykernel)",
   "language": "python",
   "name": "python3"
  },
  "language_info": {
   "codemirror_mode": {
    "name": "ipython",
    "version": 3
   },
   "file_extension": ".py",
   "mimetype": "text/x-python",
   "name": "python",
   "nbconvert_exporter": "python",
   "pygments_lexer": "ipython3",
   "version": "3.11.5"
  }
 },
 "nbformat": 4,
 "nbformat_minor": 5
}
